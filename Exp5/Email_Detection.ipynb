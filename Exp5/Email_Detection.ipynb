{
  "cells": [
    {
      "cell_type": "markdown",
      "id": "49ef9085",
      "metadata": {
        "id": "49ef9085"
      },
      "source": [
        "### Imports"
      ]
    },
    {
      "cell_type": "code",
      "execution_count": null,
      "id": "133124ea",
      "metadata": {
        "id": "133124ea"
      },
      "outputs": [],
      "source": [
        "import numpy as np\n",
        "import pandas as pd\n",
        "from matplotlib import pyplot as plt\n",
        "import seaborn as sns "
      ]
    },
    {
      "cell_type": "markdown",
      "id": "e253c87a",
      "metadata": {
        "id": "e253c87a"
      },
      "source": [
        "### Load the Dataset"
      ]
    },
    {
      "cell_type": "code",
      "execution_count": null,
      "id": "80d83265",
      "metadata": {
        "id": "80d83265",
        "outputId": "a0ae26b8-508b-40a6-c4a5-89d94ebf7dfc"
      },
      "outputs": [
        {
          "data": {
            "text/html": [
              "<div>\n",
              "<style scoped>\n",
              "    .dataframe tbody tr th:only-of-type {\n",
              "        vertical-align: middle;\n",
              "    }\n",
              "\n",
              "    .dataframe tbody tr th {\n",
              "        vertical-align: top;\n",
              "    }\n",
              "\n",
              "    .dataframe thead th {\n",
              "        text-align: right;\n",
              "    }\n",
              "</style>\n",
              "<table border=\"1\" class=\"dataframe\">\n",
              "  <thead>\n",
              "    <tr style=\"text-align: right;\">\n",
              "      <th></th>\n",
              "      <th>text</th>\n",
              "      <th>spam</th>\n",
              "    </tr>\n",
              "  </thead>\n",
              "  <tbody>\n",
              "    <tr>\n",
              "      <th>0</th>\n",
              "      <td>Subject: naturally irresistible your corporate...</td>\n",
              "      <td>1</td>\n",
              "    </tr>\n",
              "    <tr>\n",
              "      <th>1</th>\n",
              "      <td>Subject: the stock trading gunslinger  fanny i...</td>\n",
              "      <td>1</td>\n",
              "    </tr>\n",
              "    <tr>\n",
              "      <th>2</th>\n",
              "      <td>Subject: unbelievable new homes made easy  im ...</td>\n",
              "      <td>1</td>\n",
              "    </tr>\n",
              "    <tr>\n",
              "      <th>3</th>\n",
              "      <td>Subject: 4 color printing special  request add...</td>\n",
              "      <td>1</td>\n",
              "    </tr>\n",
              "    <tr>\n",
              "      <th>4</th>\n",
              "      <td>Subject: do not have money , get software cds ...</td>\n",
              "      <td>1</td>\n",
              "    </tr>\n",
              "  </tbody>\n",
              "</table>\n",
              "</div>"
            ],
            "text/plain": [
              "                                                text  spam\n",
              "0  Subject: naturally irresistible your corporate...     1\n",
              "1  Subject: the stock trading gunslinger  fanny i...     1\n",
              "2  Subject: unbelievable new homes made easy  im ...     1\n",
              "3  Subject: 4 color printing special  request add...     1\n",
              "4  Subject: do not have money , get software cds ...     1"
            ]
          },
          "execution_count": 444,
          "metadata": {},
          "output_type": "execute_result"
        }
      ],
      "source": [
        "df = pd.read_csv('emails.csv')\n",
        "df.head()"
      ]
    },
    {
      "cell_type": "markdown",
      "id": "115b1cbc",
      "metadata": {
        "id": "115b1cbc"
      },
      "source": [
        "### Dataset Statistics"
      ]
    },
    {
      "cell_type": "code",
      "execution_count": null,
      "id": "a349eaf3",
      "metadata": {
        "id": "a349eaf3",
        "outputId": "7b3f6d5f-4467-48c3-9d00-9b48ed061032"
      },
      "outputs": [
        {
          "name": "stdout",
          "output_type": "stream",
          "text": [
            "Len of Dataset before dropping duplicate rows 5728\n"
          ]
        }
      ],
      "source": [
        "print(f'Len of Dataset before dropping duplicate rows {len(df)}')"
      ]
    },
    {
      "cell_type": "code",
      "execution_count": null,
      "id": "828508eb",
      "metadata": {
        "id": "828508eb",
        "outputId": "9e83a2c5-9211-4b04-a4d8-5fb4cd9650c7"
      },
      "outputs": [
        {
          "name": "stdout",
          "output_type": "stream",
          "text": [
            "No of Ham Messages before dropping any duplicates 4360\n"
          ]
        }
      ],
      "source": [
        "print(f'No of Ham Messages before dropping any duplicates {len(df[df.spam == 0])}')"
      ]
    },
    {
      "cell_type": "code",
      "execution_count": null,
      "id": "25e5cf48",
      "metadata": {
        "id": "25e5cf48",
        "outputId": "be37995e-1047-4af8-e3e8-6785bbd7b077"
      },
      "outputs": [
        {
          "name": "stdout",
          "output_type": "stream",
          "text": [
            "No of Spam Messages before dropping any duplicates 1368\n"
          ]
        }
      ],
      "source": [
        "print(f'No of Spam Messages before dropping any duplicates {len(df[df.spam == 1])}')"
      ]
    },
    {
      "cell_type": "markdown",
      "id": "e9aef11e",
      "metadata": {
        "id": "e9aef11e"
      },
      "source": [
        "### Check for Missing Values"
      ]
    },
    {
      "cell_type": "code",
      "execution_count": null,
      "id": "05949441",
      "metadata": {
        "id": "05949441",
        "outputId": "879a6416-603e-4957-bef0-af5fdde8b053"
      },
      "outputs": [
        {
          "data": {
            "text/plain": [
              "<AxesSubplot:>"
            ]
          },
          "execution_count": 448,
          "metadata": {},
          "output_type": "execute_result"
        },
        {
          "data": {
            "image/png": "[encoded data removed]",
            "text/plain": [
              "<Figure size 1728x720 with 3 Axes>"
            ]
          },
          "metadata": {
            "needs_background": "light"
          },
          "output_type": "display_data"
        }
      ],
      "source": [
        "import missingno \n",
        "missingno.bar(df)"
      ]
    },
    {
      "cell_type": "markdown",
      "id": "209aa595",
      "metadata": {
        "id": "209aa595"
      },
      "source": [
        "### Drop Duplicates"
      ]
    },
    {
      "cell_type": "code",
      "execution_count": null,
      "id": "4d953fd8",
      "metadata": {
        "id": "4d953fd8",
        "outputId": "456d41ae-4e8b-4f9a-a598-49ae99c039c6"
      },
      "outputs": [
        {
          "data": {
            "text/html": [
              "<div>\n",
              "<style scoped>\n",
              "    .dataframe tbody tr th:only-of-type {\n",
              "        vertical-align: middle;\n",
              "    }\n",
              "\n",
              "    .dataframe tbody tr th {\n",
              "        vertical-align: top;\n",
              "    }\n",
              "\n",
              "    .dataframe thead th {\n",
              "        text-align: right;\n",
              "    }\n",
              "</style>\n",
              "<table border=\"1\" class=\"dataframe\">\n",
              "  <thead>\n",
              "    <tr style=\"text-align: right;\">\n",
              "      <th></th>\n",
              "      <th>text</th>\n",
              "      <th>spam</th>\n",
              "    </tr>\n",
              "  </thead>\n",
              "  <tbody>\n",
              "    <tr>\n",
              "      <th>0</th>\n",
              "      <td>Subject: naturally irresistible your corporate...</td>\n",
              "      <td>1</td>\n",
              "    </tr>\n",
              "    <tr>\n",
              "      <th>1</th>\n",
              "      <td>Subject: the stock trading gunslinger  fanny i...</td>\n",
              "      <td>1</td>\n",
              "    </tr>\n",
              "    <tr>\n",
              "      <th>2</th>\n",
              "      <td>Subject: unbelievable new homes made easy  im ...</td>\n",
              "      <td>1</td>\n",
              "    </tr>\n",
              "    <tr>\n",
              "      <th>3</th>\n",
              "      <td>Subject: 4 color printing special  request add...</td>\n",
              "      <td>1</td>\n",
              "    </tr>\n",
              "    <tr>\n",
              "      <th>4</th>\n",
              "      <td>Subject: do not have money , get software cds ...</td>\n",
              "      <td>1</td>\n",
              "    </tr>\n",
              "  </tbody>\n",
              "</table>\n",
              "</div>"
            ],
            "text/plain": [
              "                                                text  spam\n",
              "0  Subject: naturally irresistible your corporate...     1\n",
              "1  Subject: the stock trading gunslinger  fanny i...     1\n",
              "2  Subject: unbelievable new homes made easy  im ...     1\n",
              "3  Subject: 4 color printing special  request add...     1\n",
              "4  Subject: do not have money , get software cds ...     1"
            ]
          },
          "execution_count": 449,
          "metadata": {},
          "output_type": "execute_result"
        }
      ],
      "source": [
        "# df = df.drop_duplicates()\n",
        "df.head()"
      ]
    },
    {
      "cell_type": "markdown",
      "id": "e946bcea",
      "metadata": {
        "id": "e946bcea"
      },
      "source": [
        "### Dataset Statistics"
      ]
    },
    {
      "cell_type": "code",
      "execution_count": null,
      "id": "0e968beb",
      "metadata": {
        "id": "0e968beb",
        "outputId": "708452df-d19c-496d-a25b-e0422414ce5b"
      },
      "outputs": [
        {
          "name": "stdout",
          "output_type": "stream",
          "text": [
            "Len of Dataset after dropping duplicate rows 5728\n"
          ]
        }
      ],
      "source": [
        "print(f'Len of Dataset after dropping duplicate rows {len(df)}')"
      ]
    },
    {
      "cell_type": "code",
      "execution_count": null,
      "id": "76047dbe",
      "metadata": {
        "id": "76047dbe",
        "outputId": "87078609-230a-4345-fd50-c4204769fb4c"
      },
      "outputs": [
        {
          "name": "stdout",
          "output_type": "stream",
          "text": [
            "No of Ham Messages after dropping any duplicates 4360\n"
          ]
        }
      ],
      "source": [
        "print(f'No of Ham Messages after dropping any duplicates {len(df[df.spam == 0])}')"
      ]
    },
    {
      "cell_type": "code",
      "execution_count": null,
      "id": "3a9ed999",
      "metadata": {
        "id": "3a9ed999",
        "outputId": "d100a969-4328-4777-9242-15d1c766d368"
      },
      "outputs": [
        {
          "name": "stdout",
          "output_type": "stream",
          "text": [
            "No of Spam Messages after dropping any duplicates 1368\n"
          ]
        }
      ],
      "source": [
        "print(f'No of Spam Messages after dropping any duplicates {len(df[df.spam == 1])}')"
      ]
    },
    {
      "cell_type": "markdown",
      "id": "44923f60",
      "metadata": {
        "id": "44923f60"
      },
      "source": [
        "### FIrst Word in the Email "
      ]
    },
    {
      "cell_type": "markdown",
      "id": "181d02a9",
      "metadata": {
        "id": "181d02a9"
      },
      "source": [
        "### List of all punctuation characters"
      ]
    },
    {
      "cell_type": "code",
      "execution_count": null,
      "id": "5b45d502",
      "metadata": {
        "id": "5b45d502",
        "outputId": "163b4024-7de9-4685-8f0a-ea5c06867ecc"
      },
      "outputs": [
        {
          "name": "stdout",
          "output_type": "stream",
          "text": [
            "['!', '\"', '#', '$', '%', '&', \"'\", '(', ')', '*', '+', ',', '-', '.', '/', ':', ';', '<', '=', '>', '?', '@', '[', '\\\\', ']', '^', '_', '`', '{', '|', '}', '~']\n"
          ]
        }
      ],
      "source": [
        "import string\n",
        "punctuations = list(string.punctuation)\n",
        "print(punctuations)"
      ]
    },
    {
      "cell_type": "markdown",
      "id": "79b8570f",
      "metadata": {
        "id": "79b8570f"
      },
      "source": [
        "### NLTK RegexTokenzier to select alphanumeric words only "
      ]
    },
    {
      "cell_type": "code",
      "execution_count": null,
      "id": "c7746fc0",
      "metadata": {
        "id": "c7746fc0",
        "outputId": "f0c07f2a-342e-4b26-8db7-f3ea0e54ce9e"
      },
      "outputs": [
        {
          "data": {
            "text/plain": [
              "'Eighty seven miles to go yet Onward'"
            ]
          },
          "execution_count": 454,
          "metadata": {},
          "output_type": "execute_result"
        }
      ],
      "source": [
        "from nltk.tokenize import RegexpTokenizer\n",
        "tokenizer = RegexpTokenizer(r'\\w+')\n",
        "' '.join(tokenizer.tokenize('''Eighty '!!##'-seven! miles to go, yet.  Onward!'''))"
      ]
    },
    {
      "cell_type": "markdown",
      "id": "a977e2d7",
      "metadata": {
        "id": "a977e2d7"
      },
      "source": [
        "### Function to remove punctuations from the string"
      ]
    },
    {
      "cell_type": "code",
      "execution_count": null,
      "id": "c4822e37",
      "metadata": {
        "id": "c4822e37"
      },
      "outputs": [],
      "source": [
        "def remove_punctuations(input_sentence):\n",
        "    sentence_words_list_without_punctuations = tokenizer.tokenize(input_sentence)\n",
        "    processed_string = ' '.join(sentence_words_list_without_punctuations)\n",
        "    return processed_string"
      ]
    },
    {
      "cell_type": "code",
      "execution_count": null,
      "id": "883ea417",
      "metadata": {
        "id": "883ea417",
        "outputId": "eba433c0-537b-4c89-d47f-fffad71a07ea"
      },
      "outputs": [
        {
          "data": {
            "text/plain": [
              "'Eighty seven miles to go yet Onward'"
            ]
          },
          "execution_count": 456,
          "metadata": {},
          "output_type": "execute_result"
        }
      ],
      "source": [
        "test_string = '''Eighty '!!##'-seven! miles to go, yet.  Onward!'''\n",
        "remove_punctuations(test_string)"
      ]
    },
    {
      "cell_type": "markdown",
      "id": "2a96075f",
      "metadata": {
        "id": "2a96075f"
      },
      "source": [
        "### Removing Punctuations from the text col of the dataset"
      ]
    },
    {
      "cell_type": "code",
      "execution_count": null,
      "id": "bb8c390d",
      "metadata": {
        "id": "bb8c390d"
      },
      "outputs": [],
      "source": [
        "# df['text'] = df['text'].apply(remove_punctuations)\n",
        "# df.head()"
      ]
    },
    {
      "cell_type": "markdown",
      "id": "b6c214ff",
      "metadata": {
        "id": "b6c214ff"
      },
      "source": [
        "### Getting first word of all rows of the dataset "
      ]
    },
    {
      "cell_type": "markdown",
      "id": "d09a90e4",
      "metadata": {
        "id": "d09a90e4"
      },
      "source": [
        "### First word for all rows in the dataset"
      ]
    },
    {
      "cell_type": "code",
      "execution_count": null,
      "id": "9eaf2148",
      "metadata": {
        "id": "9eaf2148",
        "outputId": "da613982-aba5-495d-ce17-582977076431"
      },
      "outputs": [
        {
          "data": {
            "text/plain": [
              "'subject:'"
            ]
          },
          "execution_count": 458,
          "metadata": {},
          "output_type": "execute_result"
        }
      ],
      "source": [
        "df['text'].apply(lambda x: x.split(' ')[0].lower()).unique()[0]"
      ]
    },
    {
      "cell_type": "markdown",
      "id": "c01226da",
      "metadata": {
        "id": "c01226da"
      },
      "source": [
        "Which word appears at the beginning of every email in the dataset? Respond as a lower-case word with punctuation removed.\n",
        "\n",
        "Ans ==> subject"
      ]
    },
    {
      "cell_type": "markdown",
      "id": "792ab6a2",
      "metadata": {
        "id": "792ab6a2"
      },
      "source": [
        "### Analyzing Lengths of emails of the given dataset "
      ]
    },
    {
      "cell_type": "code",
      "execution_count": null,
      "id": "ec05ddcf",
      "metadata": {
        "id": "ec05ddcf",
        "outputId": "01190219-3331-4de2-d2a4-b4f76dd2e275"
      },
      "outputs": [
        {
          "name": "stderr",
          "output_type": "stream",
          "text": [
            "C:\\Users\\jiten\\anaconda3\\lib\\site-packages\\seaborn\\_decorators.py:36: FutureWarning: Pass the following variable as a keyword arg: x. From version 0.12, the only valid positional argument will be `data`, and passing other arguments without an explicit keyword will result in an error or misinterpretation.\n",
            "  warnings.warn(\n"
          ]
        },
        {
          "data": {
            "text/plain": [
              "<AxesSubplot:xlabel='spam', ylabel='count'>"
            ]
          },
          "execution_count": 459,
          "metadata": {},
          "output_type": "execute_result"
        },
        {
          "data": {
            "image/png": "[encoded data removed]",
            "text/plain": [
              "<Figure size 432x288 with 1 Axes>"
            ]
          },
          "metadata": {
            "needs_background": "light"
          },
          "output_type": "display_data"
        }
      ],
      "source": [
        "sns.countplot(df['spam'])"
      ]
    },
    {
      "cell_type": "markdown",
      "id": "89bc5fd6",
      "metadata": {
        "id": "89bc5fd6"
      },
      "source": [
        "### Add a new col to store the length of the text "
      ]
    },
    {
      "cell_type": "code",
      "execution_count": null,
      "id": "425f8dc8",
      "metadata": {
        "id": "425f8dc8",
        "outputId": "e7bd5b45-3608-4c3d-fca5-42967914ab79"
      },
      "outputs": [
        {
          "data": {
            "text/html": [
              "<div>\n",
              "<style scoped>\n",
              "    .dataframe tbody tr th:only-of-type {\n",
              "        vertical-align: middle;\n",
              "    }\n",
              "\n",
              "    .dataframe tbody tr th {\n",
              "        vertical-align: top;\n",
              "    }\n",
              "\n",
              "    .dataframe thead th {\n",
              "        text-align: right;\n",
              "    }\n",
              "</style>\n",
              "<table border=\"1\" class=\"dataframe\">\n",
              "  <thead>\n",
              "    <tr style=\"text-align: right;\">\n",
              "      <th></th>\n",
              "      <th>text</th>\n",
              "      <th>spam</th>\n",
              "      <th>text_length</th>\n",
              "    </tr>\n",
              "  </thead>\n",
              "  <tbody>\n",
              "    <tr>\n",
              "      <th>0</th>\n",
              "      <td>Subject: naturally irresistible your corporate...</td>\n",
              "      <td>1</td>\n",
              "      <td>1484</td>\n",
              "    </tr>\n",
              "    <tr>\n",
              "      <th>1</th>\n",
              "      <td>Subject: the stock trading gunslinger  fanny i...</td>\n",
              "      <td>1</td>\n",
              "      <td>598</td>\n",
              "    </tr>\n",
              "    <tr>\n",
              "      <th>2</th>\n",
              "      <td>Subject: unbelievable new homes made easy  im ...</td>\n",
              "      <td>1</td>\n",
              "      <td>448</td>\n",
              "    </tr>\n",
              "    <tr>\n",
              "      <th>3</th>\n",
              "      <td>Subject: 4 color printing special  request add...</td>\n",
              "      <td>1</td>\n",
              "      <td>500</td>\n",
              "    </tr>\n",
              "    <tr>\n",
              "      <th>4</th>\n",
              "      <td>Subject: do not have money , get software cds ...</td>\n",
              "      <td>1</td>\n",
              "      <td>235</td>\n",
              "    </tr>\n",
              "  </tbody>\n",
              "</table>\n",
              "</div>"
            ],
            "text/plain": [
              "                                                text  spam  text_length\n",
              "0  Subject: naturally irresistible your corporate...     1         1484\n",
              "1  Subject: the stock trading gunslinger  fanny i...     1          598\n",
              "2  Subject: unbelievable new homes made easy  im ...     1          448\n",
              "3  Subject: 4 color printing special  request add...     1          500\n",
              "4  Subject: do not have money , get software cds ...     1          235"
            ]
          },
          "execution_count": 460,
          "metadata": {},
          "output_type": "execute_result"
        }
      ],
      "source": [
        "df['text_length'] = df['text'].apply(len)\n",
        "\n",
        "df.head()"
      ]
    },
    {
      "cell_type": "markdown",
      "id": "9ad345b9",
      "metadata": {
        "id": "9ad345b9"
      },
      "source": [
        "### Analyzing the lengths of the spam messages"
      ]
    },
    {
      "cell_type": "code",
      "execution_count": null,
      "id": "6d7f9571",
      "metadata": {
        "id": "6d7f9571",
        "outputId": "7112a2e0-c3e5-4a97-b9f0-b01bb40640fa"
      },
      "outputs": [
        {
          "name": "stderr",
          "output_type": "stream",
          "text": [
            "C:\\Users\\jiten\\anaconda3\\lib\\site-packages\\seaborn\\distributions.py:2619: FutureWarning: `distplot` is a deprecated function and will be removed in a future version. Please adapt your code to use either `displot` (a figure-level function with similar flexibility) or `histplot` (an axes-level function for histograms).\n",
            "  warnings.warn(msg, FutureWarning)\n"
          ]
        },
        {
          "data": {
            "text/plain": [
              "<AxesSubplot:xlabel='text_length', ylabel='Density'>"
            ]
          },
          "execution_count": 461,
          "metadata": {},
          "output_type": "execute_result"
        },
        {
          "data": {
            "image/png": "[encoded data removed]",
            "text/plain": [
              "<Figure size 432x288 with 1 Axes>"
            ]
          },
          "metadata": {
            "needs_background": "light"
          },
          "output_type": "display_data"
        }
      ],
      "source": [
        "sns.distplot(df[df['spam'] == 0]['text_length'])"
      ]
    },
    {
      "cell_type": "code",
      "execution_count": null,
      "id": "541f4be3",
      "metadata": {
        "id": "541f4be3",
        "outputId": "2d6ba835-b501-40b8-e357-afbf625df455"
      },
      "outputs": [
        {
          "data": {
            "text/plain": [
              "1122.0"
            ]
          },
          "execution_count": 462,
          "metadata": {},
          "output_type": "execute_result"
        }
      ],
      "source": [
        "df[df['spam'] == 0]['text_length'].median()"
      ]
    },
    {
      "cell_type": "code",
      "execution_count": null,
      "id": "8072bc0b",
      "metadata": {
        "id": "8072bc0b",
        "outputId": "af0f7999-1f51-4acc-e2cc-97ed0e142447"
      },
      "outputs": [
        {
          "name": "stderr",
          "output_type": "stream",
          "text": [
            "C:\\Users\\jiten\\anaconda3\\lib\\site-packages\\seaborn\\distributions.py:2619: FutureWarning: `distplot` is a deprecated function and will be removed in a future version. Please adapt your code to use either `displot` (a figure-level function with similar flexibility) or `histplot` (an axes-level function for histograms).\n",
            "  warnings.warn(msg, FutureWarning)\n"
          ]
        },
        {
          "data": {
            "text/plain": [
              "<AxesSubplot:xlabel='text_length', ylabel='Density'>"
            ]
          },
          "execution_count": 463,
          "metadata": {},
          "output_type": "execute_result"
        },
        {
          "data": {
            "image/png": "[encoded data removed]",
            "text/plain": [
              "<Figure size 432x288 with 1 Axes>"
            ]
          },
          "metadata": {
            "needs_background": "light"
          },
          "output_type": "display_data"
        }
      ],
      "source": [
        "sns.distplot(df[df['spam'] == 1]['text_length'])"
      ]
    },
    {
      "cell_type": "code",
      "execution_count": null,
      "id": "128f6a09",
      "metadata": {
        "id": "128f6a09",
        "outputId": "faaf3c59-6101-468b-a870-4eb658bd2f64"
      },
      "outputs": [
        {
          "data": {
            "text/plain": [
              "693.5"
            ]
          },
          "execution_count": 464,
          "metadata": {},
          "output_type": "execute_result"
        }
      ],
      "source": [
        "df[df['spam'] == 1]['text_length'].median()"
      ]
    },
    {
      "cell_type": "markdown",
      "id": "d83db0a0",
      "metadata": {
        "id": "d83db0a0"
      },
      "source": [
        "### Median amount of words in spam is much less than ham messages"
      ]
    },
    {
      "cell_type": "code",
      "execution_count": null,
      "id": "3b2be8d8",
      "metadata": {
        "id": "3b2be8d8"
      },
      "outputs": [],
      "source": [
        "spam_messages = df[df['spam'] == 1]['text'].values\n",
        "ham_messages = df[df['spam'] == 0]['text'].values"
      ]
    },
    {
      "cell_type": "markdown",
      "id": "378cbee2",
      "metadata": {
        "id": "378cbee2"
      },
      "source": [
        "### Frequency Dist for Spam Messages"
      ]
    },
    {
      "cell_type": "code",
      "execution_count": null,
      "id": "e81f2f30",
      "metadata": {
        "id": "e81f2f30",
        "outputId": "16b870f3-80f6-45e3-a366-7a4bea35b20c"
      },
      "outputs": [
        {
          "data": {
            "image/png": "[encoded data removed]",
            "text/plain": [
              "<Figure size 432x288 with 1 Axes>"
            ]
          },
          "metadata": {
            "needs_background": "light"
          },
          "output_type": "display_data"
        },
        {
          "data": {
            "text/plain": [
              "<AxesSubplot:xlabel='Samples', ylabel='Counts'>"
            ]
          },
          "execution_count": 466,
          "metadata": {},
          "output_type": "execute_result"
        }
      ],
      "source": [
        "import nltk\n",
        "fd = nltk.FreqDist(tokenizer.tokenize(' '.join(spam_messages)))\n",
        "fd.plot(10, cumulative=False)"
      ]
    },
    {
      "cell_type": "markdown",
      "id": "04139fc7",
      "metadata": {
        "id": "04139fc7"
      },
      "source": [
        "### Frequency Dist for Ham Messages"
      ]
    },
    {
      "cell_type": "code",
      "execution_count": null,
      "id": "1636cf35",
      "metadata": {
        "id": "1636cf35",
        "outputId": "5b5d517d-b77c-4147-f20e-5cd704fe0438"
      },
      "outputs": [
        {
          "data": {
            "image/png": "[encoded data removed]",
            "text/plain": [
              "<Figure size 432x288 with 1 Axes>"
            ]
          },
          "metadata": {
            "needs_background": "light"
          },
          "output_type": "display_data"
        },
        {
          "data": {
            "text/plain": [
              "<AxesSubplot:xlabel='Samples', ylabel='Counts'>"
            ]
          },
          "execution_count": 467,
          "metadata": {},
          "output_type": "execute_result"
        }
      ],
      "source": [
        "fd = nltk.FreqDist(tokenizer.tokenize(' '.join(ham_messages)))\n",
        "fd.plot(10,cumulative=False)"
      ]
    },
    {
      "cell_type": "markdown",
      "id": "352574f9",
      "metadata": {
        "id": "352574f9"
      },
      "source": [
        "### Maximum Characters Email "
      ]
    },
    {
      "cell_type": "code",
      "execution_count": null,
      "id": "0d719ad3",
      "metadata": {
        "id": "0d719ad3",
        "outputId": "3ce28bbb-8ce1-483d-8901-8920cfb806b8"
      },
      "outputs": [
        {
          "data": {
            "text/html": [
              "<div>\n",
              "<style scoped>\n",
              "    .dataframe tbody tr th:only-of-type {\n",
              "        vertical-align: middle;\n",
              "    }\n",
              "\n",
              "    .dataframe tbody tr th {\n",
              "        vertical-align: top;\n",
              "    }\n",
              "\n",
              "    .dataframe thead th {\n",
              "        text-align: right;\n",
              "    }\n",
              "</style>\n",
              "<table border=\"1\" class=\"dataframe\">\n",
              "  <thead>\n",
              "    <tr style=\"text-align: right;\">\n",
              "      <th></th>\n",
              "      <th>text</th>\n",
              "      <th>spam</th>\n",
              "      <th>text_length</th>\n",
              "    </tr>\n",
              "  </thead>\n",
              "  <tbody>\n",
              "    <tr>\n",
              "      <th>0</th>\n",
              "      <td>Subject: naturally irresistible your corporate...</td>\n",
              "      <td>1</td>\n",
              "      <td>1484</td>\n",
              "    </tr>\n",
              "    <tr>\n",
              "      <th>1</th>\n",
              "      <td>Subject: the stock trading gunslinger  fanny i...</td>\n",
              "      <td>1</td>\n",
              "      <td>598</td>\n",
              "    </tr>\n",
              "    <tr>\n",
              "      <th>2</th>\n",
              "      <td>Subject: unbelievable new homes made easy  im ...</td>\n",
              "      <td>1</td>\n",
              "      <td>448</td>\n",
              "    </tr>\n",
              "    <tr>\n",
              "      <th>3</th>\n",
              "      <td>Subject: 4 color printing special  request add...</td>\n",
              "      <td>1</td>\n",
              "      <td>500</td>\n",
              "    </tr>\n",
              "    <tr>\n",
              "      <th>4</th>\n",
              "      <td>Subject: do not have money , get software cds ...</td>\n",
              "      <td>1</td>\n",
              "      <td>235</td>\n",
              "    </tr>\n",
              "  </tbody>\n",
              "</table>\n",
              "</div>"
            ],
            "text/plain": [
              "                                                text  spam  text_length\n",
              "0  Subject: naturally irresistible your corporate...     1         1484\n",
              "1  Subject: the stock trading gunslinger  fanny i...     1          598\n",
              "2  Subject: unbelievable new homes made easy  im ...     1          448\n",
              "3  Subject: 4 color printing special  request add...     1          500\n",
              "4  Subject: do not have money , get software cds ...     1          235"
            ]
          },
          "execution_count": 468,
          "metadata": {},
          "output_type": "execute_result"
        }
      ],
      "source": [
        "df.head()"
      ]
    },
    {
      "cell_type": "code",
      "execution_count": null,
      "id": "29e6572e",
      "metadata": {
        "id": "29e6572e",
        "outputId": "9e27c53b-5210-4c39-aa89-ebfb6b4a472f"
      },
      "outputs": [
        {
          "name": "stdout",
          "output_type": "stream",
          "text": [
            "Max characters in an email in the given Dataset ==> 43952\n"
          ]
        }
      ],
      "source": [
        "print(f'Max characters in an email in the given Dataset ==> {df.text_length.max()}')"
      ]
    },
    {
      "cell_type": "markdown",
      "id": "2851277d",
      "metadata": {
        "id": "2851277d"
      },
      "source": [
        "### Creating new Corpus DataFrame"
      ]
    },
    {
      "cell_type": "code",
      "execution_count": null,
      "id": "db5b6cf8",
      "metadata": {
        "id": "db5b6cf8",
        "outputId": "56fb5e9e-be6c-4cfe-ab6a-75203e140b1e"
      },
      "outputs": [
        {
          "data": {
            "text/html": [
              "<div>\n",
              "<style scoped>\n",
              "    .dataframe tbody tr th:only-of-type {\n",
              "        vertical-align: middle;\n",
              "    }\n",
              "\n",
              "    .dataframe tbody tr th {\n",
              "        vertical-align: top;\n",
              "    }\n",
              "\n",
              "    .dataframe thead th {\n",
              "        text-align: right;\n",
              "    }\n",
              "</style>\n",
              "<table border=\"1\" class=\"dataframe\">\n",
              "  <thead>\n",
              "    <tr style=\"text-align: right;\">\n",
              "      <th></th>\n",
              "      <th>text</th>\n",
              "      <th>spam</th>\n",
              "    </tr>\n",
              "  </thead>\n",
              "  <tbody>\n",
              "    <tr>\n",
              "      <th>0</th>\n",
              "      <td>Subject: naturally irresistible your corporate...</td>\n",
              "      <td>1</td>\n",
              "    </tr>\n",
              "    <tr>\n",
              "      <th>1</th>\n",
              "      <td>Subject: the stock trading gunslinger  fanny i...</td>\n",
              "      <td>1</td>\n",
              "    </tr>\n",
              "    <tr>\n",
              "      <th>2</th>\n",
              "      <td>Subject: unbelievable new homes made easy  im ...</td>\n",
              "      <td>1</td>\n",
              "    </tr>\n",
              "    <tr>\n",
              "      <th>3</th>\n",
              "      <td>Subject: 4 color printing special  request add...</td>\n",
              "      <td>1</td>\n",
              "    </tr>\n",
              "    <tr>\n",
              "      <th>4</th>\n",
              "      <td>Subject: do not have money , get software cds ...</td>\n",
              "      <td>1</td>\n",
              "    </tr>\n",
              "  </tbody>\n",
              "</table>\n",
              "</div>"
            ],
            "text/plain": [
              "                                                text  spam\n",
              "0  Subject: naturally irresistible your corporate...     1\n",
              "1  Subject: the stock trading gunslinger  fanny i...     1\n",
              "2  Subject: unbelievable new homes made easy  im ...     1\n",
              "3  Subject: 4 color printing special  request add...     1\n",
              "4  Subject: do not have money , get software cds ...     1"
            ]
          },
          "execution_count": 470,
          "metadata": {},
          "output_type": "execute_result"
        }
      ],
      "source": [
        "corpus = pd.DataFrame()\n",
        "corpus['text'] = df['text']\n",
        "corpus['spam'] = df['spam']\n",
        "corpus.head()"
      ]
    },
    {
      "cell_type": "markdown",
      "id": "e2427099",
      "metadata": {
        "id": "e2427099"
      },
      "source": [
        "### Converting Text to LowerCase"
      ]
    },
    {
      "cell_type": "code",
      "execution_count": null,
      "id": "087b2b77",
      "metadata": {
        "id": "087b2b77"
      },
      "outputs": [],
      "source": [
        "# convert text to lowercase\n",
        "corpus['text'] = corpus['text'].apply(lambda x: x.lower())"
      ]
    },
    {
      "cell_type": "markdown",
      "id": "909c8b9d",
      "metadata": {
        "id": "909c8b9d"
      },
      "source": [
        "### Removing Puncutations from the DataFrame"
      ]
    },
    {
      "cell_type": "code",
      "execution_count": null,
      "id": "4f5ea16a",
      "metadata": {
        "id": "4f5ea16a"
      },
      "outputs": [],
      "source": [
        "# remove the punctuations from the dataset\n",
        "corpus['text'] = corpus['text'].map(remove_punctuations)"
      ]
    },
    {
      "cell_type": "markdown",
      "id": "2c999e80",
      "metadata": {
        "id": "2c999e80"
      },
      "source": [
        "### Remove Special Characters"
      ]
    },
    {
      "cell_type": "code",
      "execution_count": null,
      "id": "dd99c1a5",
      "metadata": {
        "id": "dd99c1a5"
      },
      "outputs": [],
      "source": [
        "import re\n",
        "\n",
        "def removeSpecialCharacters(sentence):\n",
        "    sentence = sentence.replace('_','')\n",
        "    return sentence"
      ]
    },
    {
      "cell_type": "code",
      "execution_count": null,
      "id": "e0edc340",
      "metadata": {
        "id": "e0edc340"
      },
      "outputs": [],
      "source": [
        "# remove the punctuations from the dataset\n",
        "corpus['text'] = corpus['text'].map(removeSpecialCharacters)"
      ]
    },
    {
      "cell_type": "markdown",
      "id": "b277a0e4",
      "metadata": {
        "id": "b277a0e4"
      },
      "source": [
        "### Stopwords English"
      ]
    },
    {
      "cell_type": "code",
      "execution_count": null,
      "id": "b974ee19",
      "metadata": {
        "id": "b974ee19",
        "outputId": "24042160-f262-4f0b-bdd0-4a60a9706831"
      },
      "outputs": [
        {
          "name": "stdout",
          "output_type": "stream",
          "text": [
            "['i', 'me', 'my', 'myself', 'we', 'our', 'ours', 'ourselves', 'you', \"you're\", \"you've\", \"you'll\", \"you'd\", 'your', 'yours', 'yourself', 'yourselves', 'he', 'him', 'his', 'himself', 'she', \"she's\", 'her', 'hers', 'herself', 'it', \"it's\", 'its', 'itself', 'they', 'them', 'their', 'theirs', 'themselves', 'what', 'which', 'who', 'whom', 'this', 'that', \"that'll\", 'these', 'those', 'am', 'is', 'are', 'was', 'were', 'be', 'been', 'being', 'have', 'has', 'had', 'having', 'do', 'does', 'did', 'doing', 'a', 'an', 'the', 'and', 'but', 'if', 'or', 'because', 'as', 'until', 'while', 'of', 'at', 'by', 'for', 'with', 'about', 'against', 'between', 'into', 'through', 'during', 'before', 'after', 'above', 'below', 'to', 'from', 'up', 'down', 'in', 'out', 'on', 'off', 'over', 'under', 'again', 'further', 'then', 'once', 'here', 'there', 'when', 'where', 'why', 'how', 'all', 'any', 'both', 'each', 'few', 'more', 'most', 'other', 'some', 'such', 'no', 'nor', 'not', 'only', 'own', 'same', 'so', 'than', 'too', 'very', 's', 't', 'can', 'will', 'just', 'don', \"don't\", 'should', \"should've\", 'now', 'd', 'll', 'm', 'o', 're', 've', 'y', 'ain', 'aren', \"aren't\", 'couldn', \"couldn't\", 'didn', \"didn't\", 'doesn', \"doesn't\", 'hadn', \"hadn't\", 'hasn', \"hasn't\", 'haven', \"haven't\", 'isn', \"isn't\", 'ma', 'mightn', \"mightn't\", 'mustn', \"mustn't\", 'needn', \"needn't\", 'shan', \"shan't\", 'shouldn', \"shouldn't\", 'wasn', \"wasn't\", 'weren', \"weren't\", 'won', \"won't\", 'wouldn', \"wouldn't\"]\n"
          ]
        }
      ],
      "source": [
        "from nltk.corpus import stopwords\n",
        "print(stopwords.words('english'))"
      ]
    },
    {
      "cell_type": "markdown",
      "id": "f2f9db28",
      "metadata": {
        "id": "f2f9db28"
      },
      "source": [
        "### Create a StopWords Dictionary Object"
      ]
    },
    {
      "cell_type": "code",
      "execution_count": null,
      "id": "e4d8d5e1",
      "metadata": {
        "id": "e4d8d5e1"
      },
      "outputs": [],
      "source": [
        "from collections import Counter\n",
        "stop_words = stopwords.words('english')\n",
        "stopwords_dict = Counter(stop_words)"
      ]
    },
    {
      "cell_type": "markdown",
      "id": "e7784946",
      "metadata": {
        "id": "e7784946"
      },
      "source": [
        "### Removing Stopwords from the Corpus"
      ]
    },
    {
      "cell_type": "code",
      "execution_count": null,
      "id": "2a9edbc4",
      "metadata": {
        "id": "2a9edbc4",
        "outputId": "4bee29c3-9484-45f4-96cc-b6ea7465641f"
      },
      "outputs": [
        {
          "data": {
            "text/plain": [
              "'Jiten lazy person'"
            ]
          },
          "execution_count": 477,
          "metadata": {},
          "output_type": "execute_result"
        }
      ],
      "source": [
        "sentence = 'Jiten is not a lazy person'\n",
        "modified_sentence = ' '.join([word for word in sentence.split() if word not in stopwords_dict])\n",
        "modified_sentence"
      ]
    },
    {
      "cell_type": "code",
      "execution_count": null,
      "id": "13ffcf3d",
      "metadata": {
        "id": "13ffcf3d"
      },
      "outputs": [],
      "source": [
        "def remove_stopwords_from_sentence(sentence):\n",
        "    modified_sentence = ' '.join([word for word in sentence.split() if word not in stopwords_dict])\n",
        "    return modified_sentence\n",
        "\n",
        "# remove stopwords from the sentence\n",
        "corpus['text'] = corpus['text'].apply(remove_stopwords_from_sentence)"
      ]
    },
    {
      "cell_type": "code",
      "execution_count": null,
      "id": "efec17e1",
      "metadata": {
        "id": "efec17e1",
        "outputId": "93eb03e2-b7b0-4f71-f088-8e86ead802f9"
      },
      "outputs": [
        {
          "data": {
            "text/html": [
              "<div>\n",
              "<style scoped>\n",
              "    .dataframe tbody tr th:only-of-type {\n",
              "        vertical-align: middle;\n",
              "    }\n",
              "\n",
              "    .dataframe tbody tr th {\n",
              "        vertical-align: top;\n",
              "    }\n",
              "\n",
              "    .dataframe thead th {\n",
              "        text-align: right;\n",
              "    }\n",
              "</style>\n",
              "<table border=\"1\" class=\"dataframe\">\n",
              "  <thead>\n",
              "    <tr style=\"text-align: right;\">\n",
              "      <th></th>\n",
              "      <th>text</th>\n",
              "      <th>spam</th>\n",
              "    </tr>\n",
              "  </thead>\n",
              "  <tbody>\n",
              "    <tr>\n",
              "      <th>0</th>\n",
              "      <td>subject naturally irresistible corporate ident...</td>\n",
              "      <td>1</td>\n",
              "    </tr>\n",
              "    <tr>\n",
              "      <th>1</th>\n",
              "      <td>subject stock trading gunslinger fanny merrill...</td>\n",
              "      <td>1</td>\n",
              "    </tr>\n",
              "    <tr>\n",
              "      <th>2</th>\n",
              "      <td>subject unbelievable new homes made easy im wa...</td>\n",
              "      <td>1</td>\n",
              "    </tr>\n",
              "    <tr>\n",
              "      <th>3</th>\n",
              "      <td>subject 4 color printing special request addit...</td>\n",
              "      <td>1</td>\n",
              "    </tr>\n",
              "    <tr>\n",
              "      <th>4</th>\n",
              "      <td>subject money get software cds software compat...</td>\n",
              "      <td>1</td>\n",
              "    </tr>\n",
              "  </tbody>\n",
              "</table>\n",
              "</div>"
            ],
            "text/plain": [
              "                                                text  spam\n",
              "0  subject naturally irresistible corporate ident...     1\n",
              "1  subject stock trading gunslinger fanny merrill...     1\n",
              "2  subject unbelievable new homes made easy im wa...     1\n",
              "3  subject 4 color printing special request addit...     1\n",
              "4  subject money get software cds software compat...     1"
            ]
          },
          "execution_count": 479,
          "metadata": {},
          "output_type": "execute_result"
        }
      ],
      "source": [
        "corpus.head()"
      ]
    },
    {
      "cell_type": "markdown",
      "id": "e28d4a74",
      "metadata": {
        "id": "e28d4a74"
      },
      "source": [
        "### Create a Stemmer Object "
      ]
    },
    {
      "cell_type": "code",
      "execution_count": null,
      "id": "b5d78ecb",
      "metadata": {
        "id": "b5d78ecb"
      },
      "outputs": [],
      "source": [
        "from nltk.stem import PorterStemmer\n",
        "ps = PorterStemmer()"
      ]
    },
    {
      "cell_type": "markdown",
      "id": "9c2b3a82",
      "metadata": {
        "id": "9c2b3a82"
      },
      "source": [
        "### Stem the Words"
      ]
    },
    {
      "cell_type": "code",
      "execution_count": null,
      "id": "f1495ae1",
      "metadata": {
        "id": "f1495ae1",
        "outputId": "9d2702f3-199c-4201-e9ba-16b3e5d7a331"
      },
      "outputs": [
        {
          "data": {
            "text/html": [
              "<div>\n",
              "<style scoped>\n",
              "    .dataframe tbody tr th:only-of-type {\n",
              "        vertical-align: middle;\n",
              "    }\n",
              "\n",
              "    .dataframe tbody tr th {\n",
              "        vertical-align: top;\n",
              "    }\n",
              "\n",
              "    .dataframe thead th {\n",
              "        text-align: right;\n",
              "    }\n",
              "</style>\n",
              "<table border=\"1\" class=\"dataframe\">\n",
              "  <thead>\n",
              "    <tr style=\"text-align: right;\">\n",
              "      <th></th>\n",
              "      <th>text</th>\n",
              "      <th>spam</th>\n",
              "    </tr>\n",
              "  </thead>\n",
              "  <tbody>\n",
              "    <tr>\n",
              "      <th>0</th>\n",
              "      <td>subject natur irresist corpor ident lt realli ...</td>\n",
              "      <td>1</td>\n",
              "    </tr>\n",
              "    <tr>\n",
              "      <th>1</th>\n",
              "      <td>subject stock trade gunsling fanni merril muzo...</td>\n",
              "      <td>1</td>\n",
              "    </tr>\n",
              "    <tr>\n",
              "      <th>2</th>\n",
              "      <td>subject unbeliev new home made easi im want sh...</td>\n",
              "      <td>1</td>\n",
              "    </tr>\n",
              "    <tr>\n",
              "      <th>3</th>\n",
              "      <td>subject 4 color print special request addit in...</td>\n",
              "      <td>1</td>\n",
              "    </tr>\n",
              "    <tr>\n",
              "      <th>4</th>\n",
              "      <td>subject money get softwar cd softwar compat gr...</td>\n",
              "      <td>1</td>\n",
              "    </tr>\n",
              "  </tbody>\n",
              "</table>\n",
              "</div>"
            ],
            "text/plain": [
              "                                                text  spam\n",
              "0  subject natur irresist corpor ident lt realli ...     1\n",
              "1  subject stock trade gunsling fanni merril muzo...     1\n",
              "2  subject unbeliev new home made easi im want sh...     1\n",
              "3  subject 4 color print special request addit in...     1\n",
              "4  subject money get softwar cd softwar compat gr...     1"
            ]
          },
          "execution_count": 481,
          "metadata": {},
          "output_type": "execute_result"
        }
      ],
      "source": [
        "def stem_words_in_sentence(sentence):\n",
        "    modified_sentence = ' '.join([ps.stem(word) for word in sentence.split()])\n",
        "    return modified_sentence\n",
        "\n",
        "corpus['text'] = corpus['text'].apply(stem_words_in_sentence)\n",
        "corpus.head()"
      ]
    },
    {
      "cell_type": "code",
      "execution_count": null,
      "id": "98d84ec3",
      "metadata": {
        "id": "98d84ec3"
      },
      "outputs": [],
      "source": [
        "from sklearn.feature_extraction.text import CountVectorizer\n",
        "vec = CountVectorizer()\n",
        "document_term_matrix  = vec.fit_transform(corpus['text'])"
      ]
    },
    {
      "cell_type": "code",
      "execution_count": null,
      "id": "de6254c7",
      "metadata": {
        "id": "de6254c7",
        "outputId": "0cfde266-a6de-4fc6-a756-2941ffd2d47c"
      },
      "outputs": [
        {
          "data": {
            "text/plain": [
              "(5728, 29222)"
            ]
          },
          "execution_count": 483,
          "metadata": {},
          "output_type": "execute_result"
        }
      ],
      "source": [
        "document_term_matrix.shape"
      ]
    },
    {
      "cell_type": "markdown",
      "id": "85eba990",
      "metadata": {
        "id": "85eba990"
      },
      "source": [
        "### No of terms in dtm"
      ]
    },
    {
      "cell_type": "code",
      "execution_count": null,
      "id": "5a41915c",
      "metadata": {
        "id": "5a41915c",
        "outputId": "6da85fdf-e98a-408a-fd7f-61bef8d737c0"
      },
      "outputs": [
        {
          "name": "stdout",
          "output_type": "stream",
          "text": [
            "No of terms in the document term matrix is 29222\n"
          ]
        }
      ],
      "source": [
        "print(f'No of terms in the document term matrix is {document_term_matrix.shape[1]}')"
      ]
    },
    {
      "cell_type": "markdown",
      "id": "f9d51f3a",
      "metadata": {
        "id": "f9d51f3a"
      },
      "source": [
        "### No of terms in spdtm"
      ]
    },
    {
      "cell_type": "code",
      "execution_count": null,
      "id": "535e98b6",
      "metadata": {
        "id": "535e98b6",
        "outputId": "eaa6c96b-e0a8-446d-d95f-41bbb0ef10e1"
      },
      "outputs": [
        {
          "name": "stdout",
          "output_type": "stream",
          "text": [
            "No of terms in the the five percent document term matrix is 366\n"
          ]
        }
      ],
      "source": [
        "five_percent_vectorizer = CountVectorizer(min_df = 0.05)\n",
        "five_percent_document_term_matrix = five_percent_vectorizer.fit_transform(corpus['text'])\n",
        "\n",
        "print(f'No of terms in the the five percent document term matrix is {five_percent_document_term_matrix.shape[1]}')"
      ]
    },
    {
      "cell_type": "markdown",
      "id": "62585283",
      "metadata": {
        "id": "62585283"
      },
      "source": [
        "### No of terms in TFidf Vectorizer"
      ]
    },
    {
      "cell_type": "code",
      "execution_count": null,
      "id": "2a2407b1",
      "metadata": {
        "id": "2a2407b1"
      },
      "outputs": [],
      "source": [
        "from sklearn.feature_extraction.text import TfidfVectorizer\n",
        "tfidf_vectorizer = TfidfVectorizer()\n",
        "tfidf_document_term_matrix = tfidf_vectorizer.fit_transform(corpus['text'])"
      ]
    },
    {
      "cell_type": "code",
      "execution_count": null,
      "id": "1d9552a8",
      "metadata": {
        "id": "1d9552a8",
        "outputId": "b46c02c1-6f0d-49f2-907c-2a16bdde0a6c"
      },
      "outputs": [
        {
          "name": "stdout",
          "output_type": "stream",
          "text": [
            "No of terms in the the five percent document term matrix is 29222\n"
          ]
        }
      ],
      "source": [
        "print(f'No of terms in the the five percent document term matrix is {tfidf_document_term_matrix.shape[1]}')"
      ]
    },
    {
      "cell_type": "markdown",
      "id": "18809948",
      "metadata": {
        "id": "18809948"
      },
      "source": [
        "### Building Machine Learning Models"
      ]
    },
    {
      "cell_type": "markdown",
      "id": "2d6e7fc9",
      "metadata": {
        "id": "2d6e7fc9"
      },
      "source": [
        "### Training the CART Model"
      ]
    },
    {
      "cell_type": "code",
      "execution_count": null,
      "id": "591062b6",
      "metadata": {
        "id": "591062b6"
      },
      "outputs": [],
      "source": [
        "SEED = 123\n",
        "np.random.seed(SEED)"
      ]
    },
    {
      "cell_type": "markdown",
      "id": "ff82cade",
      "metadata": {
        "id": "ff82cade"
      },
      "source": [
        "### Train Test Split Dataset"
      ]
    },
    {
      "cell_type": "code",
      "execution_count": null,
      "id": "ef2f13fd",
      "metadata": {
        "id": "ef2f13fd"
      },
      "outputs": [],
      "source": [
        "from sklearn.model_selection import train_test_split\n",
        "X_train, X_test, y_train, y_test = train_test_split(document_term_matrix, corpus['spam'], test_size=0.3, random_state=SEED)"
      ]
    },
    {
      "cell_type": "markdown",
      "id": "2e7efcf1",
      "metadata": {
        "id": "2e7efcf1"
      },
      "source": [
        "### CART MODEL\n"
      ]
    },
    {
      "cell_type": "code",
      "execution_count": null,
      "id": "5df3bf81",
      "metadata": {
        "id": "5df3bf81",
        "outputId": "228f3b8e-039c-420e-d8ed-40a6970b1cd5"
      },
      "outputs": [
        {
          "data": {
            "text/plain": [
              "DecisionTreeClassifier()"
            ]
          },
          "execution_count": 501,
          "metadata": {},
          "output_type": "execute_result"
        }
      ],
      "source": [
        "from sklearn import tree\n",
        "clf = tree.DecisionTreeClassifier()\n",
        "clf.fit(X_train, y_train)"
      ]
    },
    {
      "cell_type": "markdown",
      "id": "5e4a91d1",
      "metadata": {
        "id": "5e4a91d1"
      },
      "source": [
        "### Training Data Accuracy on CART Model"
      ]
    },
    {
      "cell_type": "code",
      "execution_count": null,
      "id": "0f485f53",
      "metadata": {
        "id": "0f485f53",
        "outputId": "c47bed3c-eabe-4b78-892b-835704cf2c27"
      },
      "outputs": [
        {
          "name": "stdout",
          "output_type": "stream",
          "text": [
            "0.9586969168121\n"
          ]
        }
      ],
      "source": [
        "from sklearn.metrics import accuracy_score\n",
        "print(accuracy_score(clf.predict(X_test), y_test))"
      ]
    },
    {
      "cell_type": "markdown",
      "id": "d8ae318d",
      "metadata": {
        "id": "d8ae318d"
      },
      "source": [
        "### Plot the classification Report for the CART Model"
      ]
    },
    {
      "cell_type": "code",
      "execution_count": null,
      "id": "9ca3ad6b",
      "metadata": {
        "id": "9ca3ad6b",
        "outputId": "b707a1bb-39d1-4289-80f3-72bce656936e"
      },
      "outputs": [
        {
          "name": "stdout",
          "output_type": "stream",
          "text": [
            "              precision    recall  f1-score   support\n",
            "\n",
            "           0       0.97      0.97      0.97      1314\n",
            "           1       0.92      0.91      0.91       405\n",
            "\n",
            "    accuracy                           0.96      1719\n",
            "   macro avg       0.94      0.94      0.94      1719\n",
            "weighted avg       0.96      0.96      0.96      1719\n",
            "\n"
          ]
        }
      ],
      "source": [
        "from sklearn.metrics import classification_report\n",
        "print(classification_report(clf.predict(X_test), y_test))"
      ]
    },
    {
      "cell_type": "markdown",
      "id": "626075bc",
      "metadata": {
        "id": "626075bc"
      },
      "source": [
        "### Check the Confusion Matrix for the CART Model"
      ]
    },
    {
      "cell_type": "code",
      "execution_count": null,
      "id": "efbd5795",
      "metadata": {
        "id": "efbd5795",
        "outputId": "2d7ee4e0-92ef-4ff8-de75-af95196b3e5b"
      },
      "outputs": [
        {
          "name": "stdout",
          "output_type": "stream",
          "text": [
            "[[1281   33]\n",
            " [  38  367]]\n"
          ]
        }
      ],
      "source": [
        "from sklearn.metrics import confusion_matrix\n",
        "print(confusion_matrix(clf.predict(X_test), y_test))"
      ]
    },
    {
      "cell_type": "markdown",
      "id": "fef89da1",
      "metadata": {
        "id": "fef89da1"
      },
      "source": [
        "### Training the Random Forest"
      ]
    },
    {
      "cell_type": "code",
      "execution_count": null,
      "id": "74ff6430",
      "metadata": {
        "id": "74ff6430",
        "outputId": "584a4dd5-8d7f-4d31-bfdf-e3f50961285a"
      },
      "outputs": [
        {
          "data": {
            "text/plain": [
              "RandomForestClassifier()"
            ]
          },
          "execution_count": 508,
          "metadata": {},
          "output_type": "execute_result"
        }
      ],
      "source": [
        "from sklearn.ensemble import RandomForestClassifier\n",
        "random_forest_classifier = RandomForestClassifier()\n",
        "random_forest_classifier.fit(X_train, y_train)"
      ]
    },
    {
      "cell_type": "markdown",
      "id": "fca58f95",
      "metadata": {
        "id": "fca58f95"
      },
      "source": [
        "### Training Data Accuracy of Random Forest"
      ]
    },
    {
      "cell_type": "code",
      "execution_count": null,
      "id": "2e896774",
      "metadata": {
        "id": "2e896774",
        "outputId": "13513c56-d7d5-4f18-9618-2b4c6482106f"
      },
      "outputs": [
        {
          "name": "stdout",
          "output_type": "stream",
          "text": [
            "0.9767306573589296\n"
          ]
        }
      ],
      "source": [
        "from sklearn.metrics import accuracy_score\n",
        "print(accuracy_score(random_forest_classifier.predict(X_test), y_test))"
      ]
    },
    {
      "cell_type": "markdown",
      "id": "bcbc8428",
      "metadata": {
        "id": "bcbc8428"
      },
      "source": [
        "### Classification Report on Random Forest"
      ]
    },
    {
      "cell_type": "code",
      "execution_count": null,
      "id": "2fcb26d0",
      "metadata": {
        "id": "2fcb26d0",
        "outputId": "3fdafcd7-be4d-4882-d984-24f883eac248"
      },
      "outputs": [
        {
          "name": "stdout",
          "output_type": "stream",
          "text": [
            "              precision    recall  f1-score   support\n",
            "\n",
            "           0       1.00      0.97      0.99      1355\n",
            "           1       0.91      0.99      0.95       364\n",
            "\n",
            "    accuracy                           0.98      1719\n",
            "   macro avg       0.95      0.98      0.97      1719\n",
            "weighted avg       0.98      0.98      0.98      1719\n",
            "\n"
          ]
        }
      ],
      "source": [
        "from sklearn.metrics import classification_report\n",
        "print(classification_report(random_forest_classifier.predict(X_test), y_test))"
      ]
    },
    {
      "cell_type": "markdown",
      "id": "7521a322",
      "metadata": {
        "id": "7521a322"
      },
      "source": [
        "### Confusion Matrix of Random Forest"
      ]
    },
    {
      "cell_type": "code",
      "execution_count": null,
      "id": "d63fabdb",
      "metadata": {
        "id": "d63fabdb",
        "outputId": "fd485be3-90b1-4a6e-84e6-0c43b5efaed3"
      },
      "outputs": [
        {
          "name": "stdout",
          "output_type": "stream",
          "text": [
            "[[1317   38]\n",
            " [   2  362]]\n"
          ]
        }
      ],
      "source": [
        "from sklearn.metrics import confusion_matrix\n",
        "print(confusion_matrix(random_forest_classifier.predict(X_test), y_test))"
      ]
    },
    {
      "cell_type": "markdown",
      "id": "a92aabd4",
      "metadata": {
        "id": "a92aabd4"
      },
      "source": [
        "### Conclusion\n",
        "\n",
        "1. Performed Cleaning on Text Data (removal of stop words, stemming).\n",
        "2. Trained Decision tree, Random Forest models for spam prediction.\n",
        "3. Analyzed the impact of frequent words in spam or ham messages with word dit frequency plots.\n",
        "4. Later analyzed prediction power of model for both the classes using classification report.\n",
        "5. Cleaning textual data is very important or else because of high cardinality of data model performance will drop significantly.\n",
        "6. Now a days neural networks are also used with word embedding such as Glove, Bert etc. These embeddings have contextual information about words and also capture relationsip among the words."
      ]
    },
    {
      "cell_type": "markdown",
      "id": "84643b92",
      "metadata": {
        "id": "84643b92"
      },
      "source": [
        "### References\n",
        "\n",
        "1. [Nltk](https://www.nltk.org/)\n",
        "2. [Sklearn Python Package](https://scikit-learn.org/stable/index.html)\n",
        "3. [Stemming vs Lemmatization](https://blog.bitext.com/what-is-the-difference-between-stemming-and-lemmatization/#:~:text=Stemming%20and%20lemmatization%20are%20methods,the%20word%20is%20being%20used.)"
      ]
    }
  ],
  "metadata": {
    "kernelspec": {
      "display_name": "Python 3 (ipykernel)",
      "language": "python",
      "name": "python3"
    },
    "language_info": {
      "codemirror_mode": {
        "name": "ipython",
        "version": 3
      },
      "file_extension": ".py",
      "mimetype": "text/x-python",
      "name": "python",
      "nbconvert_exporter": "python",
      "pygments_lexer": "ipython3",
      "version": "3.9.7"
    },
    "colab": {
      "provenance": []
    }
  },
  "nbformat": 4,
  "nbformat_minor": 5
}